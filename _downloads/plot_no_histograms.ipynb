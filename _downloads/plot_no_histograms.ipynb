{
  "nbformat_minor": 0,
  "nbformat": 4,
  "metadata": {
    "language_info": {
      "codemirror_mode": {
        "name": "ipython",
        "version": 3
      },
      "nbconvert_exporter": "python",
      "mimetype": "text/x-python",
      "pygments_lexer": "ipython3",
      "name": "python",
      "version": "3.5.2",
      "file_extension": ".py"
    },
    "kernelspec": {
      "display_name": "Python 3",
      "language": "python",
      "name": "python3"
    }
  },
  "cells": [
    {
      "execution_count": null,
      "source": [
        "%matplotlib inline"
      ],
      "cell_type": "code",
      "outputs": [],
      "metadata": {
        "collapsed": false
      }
    },
    {
      "source": [
        "\n# No Histograms\n\n\nSometimes marginalised histograms are not needed.\n\n\n"
      ],
      "cell_type": "markdown",
      "metadata": {}
    },
    {
      "execution_count": null,
      "source": [
        "from numpy.random import multivariate_normal, normal, seed\nfrom chainconsumer import ChainConsumer\n\nif __name__ == \"__main__\":\n    seed(0)\n    cov = normal(size=(3, 3))\n    data = multivariate_normal(normal(size=3), 0.5 * (cov + cov.T), size=100000)\n\n    c = ChainConsumer().add_chain(data)\n    c.configure_general(plot_hists=False)\n    fig = c.plot()\n\n    fig.set_size_inches(2.5 + fig.get_size_inches())  # Resize fig for doco. You don't need this."
      ],
      "cell_type": "code",
      "outputs": [],
      "metadata": {
        "collapsed": false
      }
    }
  ]
}