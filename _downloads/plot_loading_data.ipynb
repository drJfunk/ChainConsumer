{
  "nbformat_minor": 0,
  "nbformat": 4,
  "metadata": {
    "language_info": {
      "codemirror_mode": {
        "name": "ipython",
        "version": 3
      },
      "nbconvert_exporter": "python",
      "mimetype": "text/x-python",
      "pygments_lexer": "ipython3",
      "name": "python",
      "version": "3.5.2",
      "file_extension": ".py"
    },
    "kernelspec": {
      "display_name": "Python 3",
      "language": "python",
      "name": "python3"
    }
  },
  "cells": [
    {
      "execution_count": null,
      "source": [
        "%matplotlib inline"
      ],
      "cell_type": "code",
      "outputs": [],
      "metadata": {
        "collapsed": false
      }
    },
    {
      "source": [
        "\n# Loading Data\n\n\nDemonstrates the different ways of loading data!\n\n\n\n"
      ],
      "cell_type": "markdown",
      "metadata": {}
    },
    {
      "source": [
        "You can specify truth values using a list (in the same order as the\ndeclared parameters).\n\n"
      ],
      "cell_type": "markdown",
      "metadata": {}
    },
    {
      "execution_count": null,
      "source": [
        "import numpy as np\nfrom numpy.random import normal, multivariate_normal\nimport tempfile\nimport os\nfrom chainconsumer import ChainConsumer\n\n# Lets create some data here to set things up\nnp.random.seed(4)\ncov = 0.2 * normal(size=(2, 2)) + np.identity(2)\ntruth = normal(size=2)\ndata = multivariate_normal(truth, 0.5 * (cov + cov.T), size=100000)\nparameters = [\"$x$\", \"$y$\"]\ndictionary = {\"$x$\": data[:, 0], \"$y$\": data[:, 1]}\ndirectory = tempfile._get_default_tempdir()\nfilename = next(tempfile._get_candidate_names())\nfilename1 = directory + os.sep + filename + \".txt\"\nfilename2 = directory + os.sep + filename + \".npy\"\nnp.savetxt(filename1, data)\nnp.save(filename2, data)\n\n# Now the normal way of giving data is passing a numpy array and parameter separately\nc = ChainConsumer().add_chain(data, parameters=parameters)\nfig = c.plot(truth=truth)\nfig.set_size_inches(2.5 + fig.get_size_inches())  # Resize fig for doco. You don't need this."
      ],
      "cell_type": "code",
      "outputs": [],
      "metadata": {
        "collapsed": false
      }
    },
    {
      "source": [
        "And yet we can do the same thing using a dictionary:\n\n"
      ],
      "cell_type": "markdown",
      "metadata": {}
    },
    {
      "execution_count": null,
      "source": [
        "c = ChainConsumer().add_chain(dictionary)\nfig = c.plot(truth=truth)\nfig.set_size_inches(2.5 + fig.get_size_inches())  # Resize fig for doco. You don't need this."
      ],
      "cell_type": "code",
      "outputs": [],
      "metadata": {
        "collapsed": false
      }
    },
    {
      "source": [
        "Or we can pass a filename in containing a text dump of the chain\n\n"
      ],
      "cell_type": "markdown",
      "metadata": {}
    },
    {
      "execution_count": null,
      "source": [
        "c = ChainConsumer().add_chain(filename1, parameters=parameters)\nfig = c.plot(truth=truth)\nfig.set_size_inches(2.5 + fig.get_size_inches())  # Resize fig for doco. You don't need this."
      ],
      "cell_type": "code",
      "outputs": [],
      "metadata": {
        "collapsed": false
      }
    },
    {
      "source": [
        "Or we can pass a filename for a file containing a binary numpy array\n\n"
      ],
      "cell_type": "markdown",
      "metadata": {}
    },
    {
      "execution_count": null,
      "source": [
        "c = ChainConsumer().add_chain(filename2, parameters=parameters)\nfig = c.plot(truth=truth)\nfig.set_size_inches(2.5 + fig.get_size_inches())  # Resize fig for doco. You don't need this."
      ],
      "cell_type": "code",
      "outputs": [],
      "metadata": {
        "collapsed": false
      }
    }
  ]
}