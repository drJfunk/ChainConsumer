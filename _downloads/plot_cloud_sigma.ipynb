{
  "nbformat_minor": 0,
  "nbformat": 4,
  "metadata": {
    "language_info": {
      "codemirror_mode": {
        "name": "ipython",
        "version": 3
      },
      "nbconvert_exporter": "python",
      "mimetype": "text/x-python",
      "pygments_lexer": "ipython3",
      "name": "python",
      "version": "3.5.2",
      "file_extension": ".py"
    },
    "kernelspec": {
      "display_name": "Python 3",
      "language": "python",
      "name": "python3"
    }
  },
  "cells": [
    {
      "execution_count": null,
      "source": [
        "%matplotlib inline"
      ],
      "cell_type": "code",
      "outputs": [],
      "metadata": {
        "collapsed": false
      }
    },
    {
      "source": [
        "\n# Cloud and Sigma Levels\n\n\nChoose custom sigma levels and display point cloud.\n\nIn this example we display more sigma levels, turn on the point cloud, and\ndisable the parameter summaries on the top of the marginalised distributions.\n\nNote that because of the very highly correlated distribution we have, it is\nuseful to increase the number of bins the plots are generated with, to capture the\nthinness of the correlation.\n\n"
      ],
      "cell_type": "markdown",
      "metadata": {}
    },
    {
      "execution_count": null,
      "source": [
        "import numpy as np\nfrom numpy.random import normal, multivariate_normal\nfrom chainconsumer import ChainConsumer\n\nif __name__ == \"__main__\":\n    np.random.seed(1)\n    cov = normal(size=(3, 3))\n    data = multivariate_normal(normal(size=3), 0.5 * (cov + cov.T), size=100000)\n\n    c = ChainConsumer().add_chain(data, parameters=[\"$x$\", \"$y$\", \"$z$\"])\n    c.configure_bar(summary=False).configure_general(bins=1.4)\n    c.configure_contour(cloud=True, sigmas=np.linspace(0, 2, 10))\n    fig = c.plot()\n\n    fig.set_size_inches(2.5 + fig.get_size_inches())  # Resize fig for doco. You don't need this."
      ],
      "cell_type": "code",
      "outputs": [],
      "metadata": {
        "collapsed": false
      }
    }
  ]
}