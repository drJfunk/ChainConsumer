{
  "nbformat_minor": 0,
  "nbformat": 4,
  "metadata": {
    "language_info": {
      "codemirror_mode": {
        "name": "ipython",
        "version": 3
      },
      "nbconvert_exporter": "python",
      "mimetype": "text/x-python",
      "pygments_lexer": "ipython3",
      "name": "python",
      "version": "3.5.2",
      "file_extension": ".py"
    },
    "kernelspec": {
      "display_name": "Python 3",
      "language": "python",
      "name": "python3"
    }
  },
  "cells": [
    {
      "execution_count": null,
      "source": [
        "%matplotlib inline"
      ],
      "cell_type": "code",
      "outputs": [],
      "metadata": {
        "collapsed": false
      }
    },
    {
      "source": [
        "\n# Plot Walks\n\n\nYou can also plot the walks that your chains have undertaken.\n\nThis is a very helpful plot to create when determining if your chains have\nconverged and mixed. Below is an example walk from a Metropolis-Hastings run,\nwhere we have set the optional parameters for the weights and posteriors,\ngiving the top two subplots.\n\n.. figure::     ../../examples/resources/exampleWalk.png\n    :align:     center\n\n\n"
      ],
      "cell_type": "markdown",
      "metadata": {}
    },
    {
      "source": [
        "To generate your own walk, with a 100 point smoothed walk overplotting,\nyou can use the following code:\n\n"
      ],
      "cell_type": "markdown",
      "metadata": {}
    },
    {
      "execution_count": null,
      "source": [
        "import numpy as np\nfrom chainconsumer import ChainConsumer\n\nif __name__ == \"__main__\":\n    np.random.seed(0)\n    data = np.random.randn(10000, 2)\n    data[:, 1] += 1\n\n    ps = [\"$x$\", \"$y$\"]\n    fig = ChainConsumer().add_chain(data, parameters=ps).plot_walks(truth=[0, 1], convolve=100)\n\n    fig.set_size_inches(2.5 + fig.get_size_inches())  # Resize fig for doco. You don't need this."
      ],
      "cell_type": "code",
      "outputs": [],
      "metadata": {
        "collapsed": false
      }
    }
  ]
}